{
 "cells": [
  {
   "cell_type": "markdown",
   "id": "47a1af58-d46a-4231-8241-bb4428ddf13f",
   "metadata": {
    "tags": []
   },
   "source": [
    "# 机器学习报告四:朴素贝叶斯分类器\n",
    "- 姓名：李欣\n",
    "- 学号：2011165\n",
    "- 专业：计算机科学与技术"
   ]
  },
  {
   "cell_type": "markdown",
   "id": "c7e9ff05-9315-46d3-88ed-b66e8b4f03f6",
   "metadata": {
    "tags": []
   },
   "source": [
    "### 基本要求\n",
    "1. 采用分层采样的方式将数据集划分为训练集和测试集。 \n",
    "2. 给定编写一个朴素贝叶斯分类器，对测试集进行预测，计算分类准确率。\n",
    "\n",
    "### 中级要求\n",
    "使用测试集评估模型，得到混淆矩阵，精度，召回率，F值。\n",
    "\n",
    "### 高级要求\n",
    "在中级要求的基础上画出三类数据的ROC曲线，并求出AUC值。"
   ]
  },
  {
   "cell_type": "markdown",
   "id": "fe481729-ede3-41eb-80d7-7792a4e50a52",
   "metadata": {},
   "source": [
    "## 基本要求\n",
    "1. 采用分层采样的方式将数据集划分为训练集和测试集。 \n",
    "2. 给定编写一个朴素贝叶斯分类器，对测试集进行预测，计算分类准确率。"
   ]
  },
  {
   "cell_type": "markdown",
   "id": "dd08246f-4e5d-4d7d-8c50-c39d84c286d2",
   "metadata": {},
   "source": [
    "### 划分训练集和数据集"
   ]
  },
  {
   "cell_type": "markdown",
   "id": "40cf6595-4b25-4fbc-8f22-27bee4314640",
   "metadata": {},
   "source": [
    "#### 需要的包"
   ]
  },
  {
   "cell_type": "code",
   "execution_count": 1,
   "id": "36f9076d-7043-4dee-a998-4c1b7dcc6d83",
   "metadata": {},
   "outputs": [],
   "source": [
    "    # 需要的包\n",
    "    # -*- coding: UTF-8 -*-\n",
    "    import math\n",
    "    import numpy as np  \n",
    "    import pandas as pd\n",
    "    import random\n",
    "    import matplotlib.pyplot as plt"
   ]
  },
  {
   "cell_type": "markdown",
   "id": "eaffb384-704d-45ab-82a0-16039fe8712f",
   "metadata": {},
   "source": [
    "#### 导入数据集"
   ]
  },
  {
   "cell_type": "code",
   "execution_count": 2,
   "id": "d9fa3ddb-cd7e-4cb6-918d-08c4d9b71c6c",
   "metadata": {},
   "outputs": [],
   "source": [
    "    f = open('wine.data','r')\n",
    "    types = [[],[],[]]                      #按类分的所有数据\n",
    "    test_data = [[],[],[]]                  #测试数据\n",
    "    train_data = [[],[],[]]                 #训练数据\n",
    "    data_num = 0                            #数据总数\n",
    "    test_len = []                           #测试集里每一类的个数\n",
    "    means = [[],[],[]]                      #每一类的均值\n",
    "    std = [[],[],[]]                        #每一类的标准差\n",
    "    myline = '1'\n",
    "    #切分数据\n",
    "    while myline:\n",
    "        # 以分号为分隔\n",
    "        myline = f.readline().split(',')\n",
    "        if len(myline) != 14:\n",
    "            break\n",
    "        for t in range(len(myline)):\n",
    "            if t == 0:\n",
    "                # 第一个是分类\n",
    "                myline[t] = int(myline[t])\n",
    "            else:\n",
    "                # 后面的是特征值，为float\n",
    "                myline[t] = float(myline[t])\n",
    "        # 弹出该行第1个元素，myline删除了第0个元素:分类\n",
    "        temp = myline.pop(0)\n",
    "        # 相应类型加入该行(去掉‘,’和第0个元素:分类)\n",
    "        types[temp - 1].append(myline)\n",
    "\n",
    "    # 按照7：3划分训练集和测试集，采用分层随机采样\n",
    "    test_len = [round(len(types[i])*0.3) for i in range(3)] \n",
    "    # 数据总数\n",
    "    data_num = len(types[0])+len(types[1])+len(types[2])\n",
    "    types_len = [round(len(types[i])) for i in range(3)] "
   ]
  },
  {
   "cell_type": "code",
   "execution_count": 3,
   "id": "0e7eaabe-5389-45b4-a9c2-9cd631b3d76c",
   "metadata": {},
   "outputs": [
    {
     "name": "stdout",
     "output_type": "stream",
     "text": [
      "测试集大小： [18, 21, 14]\n",
      "训练集大小： [41, 50, 34]\n",
      "数据集总和： 178\n"
     ]
    }
   ],
   "source": [
    "    # 打印\n",
    "    types_len = [round(len(types[i])) for i in range(3)] \n",
    "    print(\"测试集大小：\",test_len)\n",
    "    train_len = [round(types_len[i]-test_len[i]) for i in range(3)]\n",
    "    print(\"训练集大小：\", train_len)\n",
    "    print(\"数据集总和：\",data_num)"
   ]
  },
  {
   "cell_type": "markdown",
   "id": "228676ca-bd5b-4793-8e8e-fe947e3acd6e",
   "metadata": {},
   "source": [
    "#### 分层随机采样"
   ]
  },
  {
   "cell_type": "code",
   "execution_count": 4,
   "id": "5f0ac92e-5c6a-4049-8655-4eb1436583c9",
   "metadata": {
    "tags": []
   },
   "outputs": [
    {
     "name": "stdout",
     "output_type": "stream",
     "text": [
      "1类训练样本个数：41\n",
      "1类测试样本个数：18\n",
      "2类训练样本个数：50\n",
      "2类测试样本个数：21\n",
      "3类训练样本个数：34\n",
      "3类测试样本个数：14\n"
     ]
    }
   ],
   "source": [
    "    # 划分训练集和测试集\n",
    "    # DataCount三类样本的索引\n",
    "    DataCount=[list(range(np.array(types[i]). shape[0])) for i in range(3)]\n",
    "    # DataCount\n",
    "    total_num=[len(DataCount[i]) for i in range(3)]\n",
    "    #对于第i类\n",
    "    for i in range(len(DataCount)):\n",
    "        #随机抽取了个样本\n",
    "        for j in range(test_len[i]):\n",
    "            randIndex = int(random.uniform(0, len(DataCount[i])))\n",
    "            # 向test_data的第i类的list中加入这一数据\n",
    "            test_data[i].append(np.array(types[i])[randIndex,:])\n",
    "            # 删除这个索引，便于下一次随机抽取\n",
    "            del(DataCount[i][randIndex])\n",
    "        # 剩余的索引对应的行加入训练集\n",
    "        for j in range (len(DataCount[i])):\n",
    "            train_data[i].append(np.array(types[i])[j,:])\n",
    "\n",
    "    for i in range (3):\n",
    "        print(\"{}类训练样本个数：{}\".format(i+1,len(DataCount[i])))\n",
    "        print(\"{}类测试样本个数：{}\".format(i+1,total_num[i]-len(DataCount[i])))    "
   ]
  },
  {
   "cell_type": "code",
   "execution_count": 5,
   "id": "223afed7-33f2-421d-8ff9-f10d0ffb98fb",
   "metadata": {},
   "outputs": [
    {
     "data": {
      "text/plain": [
       "178"
      ]
     },
     "execution_count": 5,
     "metadata": {},
     "output_type": "execute_result"
    },
    {
     "data": {
      "text/plain": [
       "[59, 71, 48]"
      ]
     },
     "execution_count": 5,
     "metadata": {},
     "output_type": "execute_result"
    }
   ],
   "source": [
    "data_num\n",
    "types_len = [round(len(types[i])) for i in range(3)]\n",
    "types_len"
   ]
  },
  {
   "cell_type": "markdown",
   "id": "e3bb4fd5-08f0-48f4-a020-ac04ba7c913f",
   "metadata": {},
   "source": [
    "[![MommyTalk1668481984954.jpg](https://img1.imgtp.com/2022/11/15/SU2tAHua.jpg)](https://img1.imgtp.com/2022/11/15/SU2tAHua.jpg)"
   ]
  },
  {
   "cell_type": "code",
   "execution_count": 6,
   "id": "383690ca-3001-4522-aad6-8ab3cdf66e40",
   "metadata": {},
   "outputs": [],
   "source": [
    "# 测试数据在某一类别条件下为该类的概率\n",
    "def Bayes_Probability(std, test_data, mean,this_class):\n",
    "    p=np.log(math.sqrt(2 * math.pi) * std)+np.power(test_data - mean, 2) / (2 * np.power(std, 2))\n",
    "    p=np.sum(p)\n",
    "    p = -1*p+math.log(types_len[this_class]/data_num)\n",
    "    return p"
   ]
  },
  {
   "cell_type": "code",
   "execution_count": 7,
   "id": "c9bb36fb-3ecb-4935-8dcb-5ab3ede3e662",
   "metadata": {},
   "outputs": [],
   "source": [
    "def bayes_classificate(train_data,test_data):\n",
    "    '''\n",
    "        pre_y:预测标签\n",
    "        test_y:真实标签\n",
    "    '''\n",
    "    pre_y=[]   # 预测值\n",
    "    test_y=[]  # 真实值\n",
    "    probablity_3class=[] # 某条数据为某类的可能性[prob_1,prob_2,prob_3]\n",
    "    #每个类 每一列(即每个属性的均值)\n",
    "    means=[np.mean(train_data[i],axis=0) for i in range(3)] #均值向量\n",
    "    \n",
    "    #每个类 每一列(即每个属性的标准差) \n",
    "    std=[np.std(train_data[i],axis=0)for i in range(3)]     #标准差\n",
    "    \n",
    "    wrong_num = 0 # 预测错误的个数\n",
    "    for i in range(3):\n",
    "        for t in test_data[i]:                  #两层循环：从每一类取每一个测试样本\n",
    "            my_type = []\n",
    "            for j in range(3):\n",
    "                #由于数据集中所有的属性都是连续值，\n",
    "                #连续值的似然估计可以按照高斯分布来计算：\n",
    "                temp = Bayes_Probability(std[j],t,means[j],j)\n",
    "                my_type.append(temp)        #这里将所有score保存\n",
    "            pre_type = my_type.index(max(my_type))\n",
    "            probablity_3class.append(my_type)\n",
    "            pre_y.append(pre_type)\n",
    "            test_y.append(i)\n",
    "            #取分值最大的为预测类别\n",
    "            if pre_type != i:                               #统计错误数\n",
    "                wrong_num+=1\n",
    "    return wrong_num,pre_y,test_y,probablity_3class\n"
   ]
  },
  {
   "cell_type": "code",
   "execution_count": 8,
   "id": "facedc74-6c6e-4139-9725-4fa6ca9e81d8",
   "metadata": {},
   "outputs": [
    {
     "data": {
      "text/plain": [
       "2"
      ]
     },
     "execution_count": 8,
     "metadata": {},
     "output_type": "execute_result"
    }
   ],
   "source": [
    "wrong_num,pre_y,test_y,prob_3class=bayes_classificate(train_data,test_data)\n",
    "wrong_num"
   ]
  },
  {
   "cell_type": "code",
   "execution_count": 9,
   "id": "11b4c542-b180-46aa-9c37-7bfd606445ae",
   "metadata": {},
   "outputs": [
    {
     "name": "stdout",
     "output_type": "stream",
     "text": [
      "错误率：0.037736\n",
      "准确率：0.962264\n"
     ]
    }
   ],
   "source": [
    "print(\"错误率：{:3f}\".format(wrong_num/np.sum(test_len)))\n",
    "print(\"准确率：{:3f}\".format(1-wrong_num/np.sum(test_len)))"
   ]
  },
  {
   "cell_type": "markdown",
   "id": "9be0bb33-0017-4830-a45a-5754899c81e0",
   "metadata": {},
   "source": [
    "## 中级要求\n",
    "使用测试集评估模型，得到混淆矩阵，精度，召回率，F值。"
   ]
  },
  {
   "cell_type": "markdown",
   "id": "91413ed8-d440-41a3-bff3-c1a484c8a313",
   "metadata": {},
   "source": [
    "混淆矩阵：\n",
    "|混淆矩阵|类别1预测值|类别2预测值|类别3预测值|\n",
    "|----|----|----|----| \n",
    "|类别1真实值|  a   |   b   |  c   |    \n",
    "|类别2真实值|  d   |   e   |   f  |   \n",
    "|类别3真实值|  g   |    h  |  i   |   "
   ]
  },
  {
   "cell_type": "markdown",
   "id": "b8b20bb5-7d26-4a79-b1ae-dc5c6a7dd0dc",
   "metadata": {
    "tags": []
   },
   "source": [
    "精度计算公式：\n",
    "[![MommyTalk1668491821961.jpg](https://img1.imgtp.com/2022/11/15/NkGBrYg6.jpg)](https://img1.imgtp.com/2022/11/15/NkGBrYg6.jpg)\n",
    "召回率计算公式：\n",
    "[![MommyTalk1668491855197.jpg](https://img1.imgtp.com/2022/11/15/l5AjF17Q.jpg)](https://img1.imgtp.com/2022/11/15/l5AjF17Q.jpg)\n",
    "F值计算公式：\n",
    "[![MommyTalk1668491393466.jpg](https://img1.imgtp.com/2022/11/15/S4aqevyU.jpg)](https://img1.imgtp.com/2022/11/15/S4aqevyU.jpg)"
   ]
  },
  {
   "cell_type": "code",
   "execution_count": 10,
   "id": "952fb12b-3045-4d81-8b15-d713306ebd17",
   "metadata": {},
   "outputs": [
    {
     "name": "stdout",
     "output_type": "stream",
     "text": [
      "混淆矩阵如下:\n",
      "[[17  1  0]\n",
      " [ 0 20  1]\n",
      " [ 0  0 14]]\n",
      "测试集第1类：\n",
      "精度：1.0 召回率：0.9444 F值：0.9714\n",
      "测试集第2类：\n",
      "精度：0.9524 召回率：0.9524 F值：0.9524\n",
      "测试集第3类：\n",
      "精度：0.9333 召回率：1.0 F值：0.9655\n"
     ]
    }
   ],
   "source": [
    "    # 1.混淆矩阵\n",
    "    # 创建混淆矩阵\n",
    "    confusion = [[0,0,0],[0,0,0],[0,0,0]]\n",
    "    # print(confusion)\n",
    "    # print(type(confusion))\n",
    "    # 填充混淆矩阵\n",
    "    for i in range(len(test_y)):\n",
    "        confusion[test_y[i]][pre_y[i]] += 1\n",
    "    confusion=np.array(confusion)\n",
    "    print(\"混淆矩阵如下:\")\n",
    "    print(confusion)    \n",
    "    \n",
    "    # 2.精度precison 召回率recall F值\n",
    "    # 精度\n",
    "    precision = [round(confusion[i][i]/np.sum(confusion,axis=0)[i],4) for i in range(3)]\n",
    "    # 召回率\n",
    "    recall = [round(confusion[i][i]/np.sum(confusion,axis=1)[i],4) for i in range(3)]\n",
    "    # F值\n",
    "    F = [round(2*precision[i]*recall[i]/(precision[i]+recall[i]),4) for i in range(3)]\n",
    "    for i in range(3):\n",
    "        print(\"测试集第{}类：\\n精度：{} 召回率：{} F值：{}\".format(i+1,precision[i],recall[i],F[i]))"
   ]
  },
  {
   "cell_type": "markdown",
   "id": "3a0b0bcf-6755-4dd1-a4a8-3b283f0e0caf",
   "metadata": {},
   "source": [
    "## 高级要求\n",
    "在中级要求的基础上画出三类数据的ROC曲线，并求出AUC值。"
   ]
  },
  {
   "cell_type": "markdown",
   "id": "5a18544f-76f6-4baa-8442-baf77620f085",
   "metadata": {},
   "source": [
    "* 真阳率 TPR：预测为正例且实际为正例的样本占所有正例样本（真实结果为正样本）的比例。\n",
    "* 假阳率 FPR：预测为正例但实际为负例的样本占所有负例样本（真实结果为负样本）的比例。\n",
    "* 阈值 threshold：接受者操作特性曲线（receiver operating characteristic curve，简称ROC曲线），又称为感受性曲线（sensitivity curve）"
   ]
  },
  {
   "cell_type": "markdown",
   "id": "4006089a-d933-4afe-9f78-3259d5cd5a43",
   "metadata": {},
   "source": [
    "### ROC曲线"
   ]
  },
  {
   "cell_type": "markdown",
   "id": "174fa048-58a3-4477-ae4a-167155a35ae3",
   "metadata": {},
   "source": [
    "需要用到的数据：\n",
    "\n",
    "test_y：每条数据的真实类别\n",
    "\n",
    "prob_3class：每条数据属于每个类的概率的集合\n",
    "\n",
    "t_length：每个类的数据大小"
   ]
  },
  {
   "cell_type": "code",
   "execution_count": 12,
   "id": "24249571-5bef-46d7-943a-339e4b2a3141",
   "metadata": {},
   "outputs": [],
   "source": [
    "# 分别画出 三类 ROC曲线 坐标点\n",
    "def ROC(test_y, prob_3class,t_length):\n",
    "    length = len(test_y)\n",
    "    prob_3class = np.array(prob_3class)\n",
    "    FPR = [[],[],[]]  # 三类FPR\n",
    "    TPR = [[],[],[]]  # 三类TPR\n",
    "    # 数据集每一类的概率\n",
    "    scores = [prob_3class[:,0],prob_3class[:,1],prob_3class[:,2]]\n",
    "    # 将概率按照从大到小排列\n",
    "    sort_scores=[np.sort(scores[0])[::-1],np.sort(scores[1])[::-1],np.sort(scores[2])[::-1]]\n",
    "    \n",
    "    for i in range(3):\n",
    "        for j in range(length):\n",
    "            T_num = 0\n",
    "            F_num = 0\n",
    "            # 阈值\n",
    "            threshold = sort_scores[i][j]\n",
    "            for k in range(length):\n",
    "                # 注意这里要用未排序的，不然标签/类别对不上\n",
    "                if(scores[i][k]>=threshold):\n",
    "                    if(test_y[k]==i):\n",
    "                        T_num += 1\n",
    "                    else:\n",
    "                        F_num += 1\n",
    "            # 计算TPR、FPR的值\n",
    "            FPR_t = F_num/(length-t_length[i])\n",
    "            FPR[i].append(FPR_t)\n",
    "            TPR_t = T_num/(t_length[i])\n",
    "            TPR[i].append(TPR_t)\n",
    "\n",
    "    return TPR,FPR"
   ]
  },
  {
   "cell_type": "code",
   "execution_count": 13,
   "id": "bf58c5e7-6c1f-4a01-a501-1a24798676ea",
   "metadata": {},
   "outputs": [],
   "source": [
    "# test_y 真实标签\n",
    "# prob_3class 每一条测试集对应的三个类的可能性\n",
    "# test_len 每个类的测试集个数\n",
    "TPR,FPR = ROC(test_y,prob_3class,test_len)"
   ]
  },
  {
   "cell_type": "markdown",
   "id": "a2ed673d-8c83-484e-9e90-28711d09e2f9",
   "metadata": {},
   "source": [
    "## AUC值\n",
    "相当于计算面积\n",
    "\n",
    "对于二分类\n",
    "1. AUC = 1，是完美分类器，采用这个预测模型时，存在至少一个阈值能得出完美预测。绝大多数预测的场合，不存在完美分类器。\n",
    "2. 0.5 < AUC < 1，优于随机猜测。这个分类器（模型）妥善设定阈值的话，能有预测价值。\n",
    "3. AUC = 0.5，跟随机猜测一样（例：丢铜板），模型没有预测价值。\n",
    "4. AUC < 0.5，比随机猜测还差；但只要总是反预测而行，就优于随机猜测。\n",
    "\n",
    "我认为，对于三分类而言，AUC>2/3，则它优于随机猜测。这个分类器（模型）妥善设定阈值的话，能有预测价值。"
   ]
  },
  {
   "cell_type": "code",
   "execution_count": 14,
   "id": "bacad001-87e0-42f2-b75c-68c13dafb81f",
   "metadata": {},
   "outputs": [
    {
     "name": "stdout",
     "output_type": "stream",
     "text": [
      "第1类的AUC为：0.998413\n",
      "第2类的AUC为：0.965774\n",
      "第3类的AUC为：0.990842\n"
     ]
    }
   ],
   "source": [
    "# 计算AUC 面积 小矩形求和\n",
    "AUC = [[],[],[]] # 存储每类acu\n",
    "temp = [[],[],[]] # 存储每个小矩形面积 用于矩形面积求和\n",
    "max_index = [len(FPR[0])-1,len(FPR[1])-1,len(FPR[2])-1]\n",
    "for i in range(3):\n",
    "    for j in range(max_index[i]):\n",
    "        temp[i].append((FPR[i][j+1]-FPR[i][j])*(TPR[i][j]))\n",
    "    AUC[i]=np.sum(temp[i])\n",
    "\n",
    "for i in range(3):\n",
    "    print(\"第{}类的AUC为：{:f}\".format(i+1,AUC[i]))"
   ]
  },
  {
   "cell_type": "markdown",
   "id": "436d180e-0071-4c74-9d5e-4d95de9e6f37",
   "metadata": {},
   "source": [
    "## 绘制ROC曲线"
   ]
  },
  {
   "cell_type": "code",
   "execution_count": 15,
   "id": "9a4d0224-7991-4c30-bc0b-864f5c943293",
   "metadata": {},
   "outputs": [
    {
     "data": {
      "text/plain": [
       "<Figure size 432x288 with 0 Axes>"
      ]
     },
     "execution_count": 15,
     "metadata": {},
     "output_type": "execute_result"
    },
    {
     "data": {
      "text/plain": [
       "(0.0, 1.1)"
      ]
     },
     "execution_count": 15,
     "metadata": {},
     "output_type": "execute_result"
    },
    {
     "data": {
      "text/plain": [
       "(0.0, 1.1)"
      ]
     },
     "execution_count": 15,
     "metadata": {},
     "output_type": "execute_result"
    },
    {
     "data": {
      "text/plain": [
       "[<matplotlib.lines.Line2D at 0x23c4f8c3670>]"
      ]
     },
     "execution_count": 15,
     "metadata": {},
     "output_type": "execute_result"
    },
    {
     "data": {
      "text/plain": [
       "[<matplotlib.lines.Line2D at 0x23c4f8c3880>]"
      ]
     },
     "execution_count": 15,
     "metadata": {},
     "output_type": "execute_result"
    },
    {
     "data": {
      "text/plain": [
       "[<matplotlib.lines.Line2D at 0x23c4f8c3b80>]"
      ]
     },
     "execution_count": 15,
     "metadata": {},
     "output_type": "execute_result"
    },
    {
     "data": {
      "text/plain": [
       "[<matplotlib.lines.Line2D at 0x23c4f8c3e50>]"
      ]
     },
     "execution_count": 15,
     "metadata": {},
     "output_type": "execute_result"
    },
    {
     "data": {
      "text/plain": [
       "Text(0.5, 0, 'False Positive Rate')"
      ]
     },
     "execution_count": 15,
     "metadata": {},
     "output_type": "execute_result"
    },
    {
     "data": {
      "text/plain": [
       "Text(0, 0.5, 'True Positive Rate')"
      ]
     },
     "execution_count": 15,
     "metadata": {},
     "output_type": "execute_result"
    },
    {
     "data": {
      "text/plain": [
       "Text(0.5, 1.0, 'ROC')"
      ]
     },
     "execution_count": 15,
     "metadata": {},
     "output_type": "execute_result"
    },
    {
     "data": {
      "text/plain": [
       "<matplotlib.legend.Legend at 0x23c4f8c3850>"
      ]
     },
     "execution_count": 15,
     "metadata": {},
     "output_type": "execute_result"
    },
    {
     "data": {
      "image/png": "[encoded data removed]",
      "text/plain": [
       "<Figure size 432x288 with 1 Axes>"
      ]
     },
     "metadata": {
      "needs_background": "light"
     },
     "output_type": "display_data"
    },
    {
     "name": "stdout",
     "output_type": "stream",
     "text": [
      "第1类的AUC为：0.998413\n",
      "第2类的AUC为：0.965774\n",
      "第3类的AUC为：0.990842\n"
     ]
    }
   ],
   "source": [
    "plt.figure()\n",
    "plt.xlim([0.0, 1.1])\n",
    "plt.ylim([0.0, 1.1])\n",
    "plt.plot(FPR[0], TPR[0], color='red',label=\"class 1\")\n",
    "plt.plot(FPR[1], TPR[1], color='orange',label=\"class 2\")\n",
    "plt.plot(FPR[2], TPR[2], color='blue',label=\"class 3\")\n",
    "plt.plot([0, 1], [0, 1], color='grey', linestyle='dotted')\n",
    "plt.xlabel('False Positive Rate')\n",
    "plt.ylabel('True Positive Rate')\n",
    "plt.title('ROC')\n",
    "plt.legend(loc=\"right\")\n",
    "plt.show()\n",
    "for i in range(3):\n",
    "    print(\"第{}类的AUC为：{:f}\".format(i+1,AUC[i]))"
   ]
  }
 ],
 "metadata": {
  "kernelspec": {
   "display_name": "Python 3 (ipykernel)",
   "language": "python",
   "name": "python3"
  },
  "language_info": {
   "codemirror_mode": {
    "name": "ipython",
    "version": 3
   },
   "file_extension": ".py",
   "mimetype": "text/x-python",
   "name": "python",
   "nbconvert_exporter": "python",
   "pygments_lexer": "ipython3",
   "version": "3.8.10"
  }
 },
 "nbformat": 4,
 "nbformat_minor": 5
}
