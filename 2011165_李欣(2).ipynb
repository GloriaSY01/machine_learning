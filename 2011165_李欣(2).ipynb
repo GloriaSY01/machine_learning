{
 "cells": [
  {
   "cell_type": "markdown",
   "metadata": {},
   "source": [
    "# 机器学习报告二：回归模型\n",
    "- 姓名：李欣\n",
    "- 学号：2011165\n",
    "- 专业：计算机科学与技术"
   ]
  },
  {
   "cell_type": "markdown",
   "metadata": {
    "jp-MarkdownHeadingCollapsed": true,
    "tags": []
   },
   "source": [
    "### 实验要求\n",
    "题目：回归模型\n",
    "\n",
    "* 回归是监督学习的一个重要问题，回归用于预测输入变量和输出变量之间的关系，特别是当输入变量的值发生变化时，输出变量的值也随之发生变化。\n",
    "* 回归模型是一种表示从输入变量到输出变量之间映射的函数\n",
    "* 对连续值的预测\n",
    "* 可以用合适的曲线揭示样本点随着自变量的变化关系\n",
    "实验条件：给定winequality-white.csv数据集\n",
    "\n",
    "实验要求：\n",
    "1. 基本要求：\n",
    "构建线性回归模型，学习使用批量梯度下降和随机梯度下降进行优化，并进行一定的分析。\n",
    "2. 中级要求：\n",
    "探究回归模型在机器学习和统计学上的差异。\n",
    "3. 提高要求：\n",
    "编程实现岭回归算法，求解训练样本的岭回归模型，平均训练误差和平均测试误差（解析法、批量梯度下降法和随机梯度下降法均可）。"
   ]
  },
  {
   "cell_type": "markdown",
   "metadata": {},
   "source": [
    "### 导入需要的包"
   ]
  },
  {
   "cell_type": "code",
   "execution_count": 2,
   "metadata": {},
   "outputs": [],
   "source": [
    "# 导入pandas\n",
    "import pandas as pd\n",
    "# 导入numpy\n",
    "import numpy as np"
   ]
  },
  {
   "cell_type": "markdown",
   "metadata": {},
   "source": [
    "### 导入数据集"
   ]
  },
  {
   "cell_type": "code",
   "execution_count": 3,
   "metadata": {},
   "outputs": [
    {
     "name": "stdout",
     "output_type": "stream",
     "text": [
      "原数据集大小: 4898\n",
      "去重后保留重复值数据集大小: 3961\n",
      "去重后不保留重复值数据集大小: 3189\n"
     ]
    }
   ],
   "source": [
    "# 使用pd.read_csv函数读入csv文件\n",
    "data = pd.read_csv(\"winequality-white.csv\")\n",
    "# 显示date文件的前五行和后五行\n",
    "# data.head(5)\n",
    "# data.tail(5)\n",
    "test_data=data\n",
    "test_data1=data\n",
    "print(\"原数据集大小:\",test_data.shape[0])\n",
    "test_data=test_data.drop_duplicates() # 包含重复值\n",
    "print(\"去重后保留重复值数据集大小:\",test_data.shape[0])\n",
    "test_data1=test_data1.drop_duplicates(keep=False) # 包含重复值\n",
    "print(\"去重后不保留重复值数据集大小:\",test_data1.shape[0])"
   ]
  },
  {
   "cell_type": "markdown",
   "metadata": {},
   "source": [
    "发现原数据集中有不少重复的数据（行），对回归系数与mse损失函数可能会产生影响。在本次实验中我们没有考虑去重问题，在后期会进行可能的改进。"
   ]
  },
  {
   "cell_type": "markdown",
   "metadata": {},
   "source": [
    "### 数据预处理"
   ]
  },
  {
   "cell_type": "code",
   "execution_count": 4,
   "metadata": {},
   "outputs": [],
   "source": [
    "# 数据预处理的几种方法\n",
    "# np.mean(x, 0)计算每一列的均值\n",
    "# np.max(x, 0)计算每一列的最大值\n",
    "# np.min(x, 0)计算每一列的最小值\n",
    "\n",
    "def Zero_c_N(x):\n",
    "    return (x - np.mean(x, 0)) / (np.max(x, 0) - np.min(x, 0))\n",
    "\n",
    "def Normalization(x):\n",
    "    x = (x - np.min(x, 0)) / (np.max(x, 0) - np.min(x, 0))\n",
    "    return x\n",
    "\n",
    "def Standardization(x):\n",
    "    return (x - np.mean(x, 0)) / np.std(x, 0)\n",
    "\n",
    "# 提取特征和标签\n",
    "# 所有行的0到最后第二列的数据，为特征\n",
    "X = data.iloc[:, 0:-1]  #\n",
    "X = Standardization(X)\n",
    "#所有行的最后一列的数据为标签\n",
    "Y = data.iloc[:, -1]"
   ]
  },
  {
   "cell_type": "markdown",
   "metadata": {},
   "source": [
    "经过实验测试，使用Standardization的效果最好。"
   ]
  },
  {
   "cell_type": "code",
   "execution_count": 5,
   "metadata": {},
   "outputs": [
    {
     "data": {
      "text/plain": [
       "(array([  83.,  931., 1440., 1402.,  623.,  235.,  134.,   26.,   20.,\n",
       "           4.]),\n",
       " array([-2.36470935, -1.61107823, -0.85744711, -0.10381598,  0.64981514,\n",
       "         1.40344626,  2.15707739,  2.91070851,  3.66433963,  4.41797076,\n",
       "         5.17160188]),\n",
       " <BarContainer object of 10 artists>)"
      ]
     },
     "execution_count": 5,
     "metadata": {},
     "output_type": "execute_result"
    },
    {
     "data": {
      "image/png": "[encoded data removed]",
      "text/plain": [
       "<Figure size 432x288 with 1 Axes>"
      ]
     },
     "metadata": {
      "needs_background": "light"
     },
     "output_type": "display_data"
    }
   ],
   "source": [
    "# 可视化中心化后的sulphates特征\n",
    "import matplotlib.pyplot as plt\n",
    "plt.hist(X[\"sulphates\"])\n",
    "plt.show()"
   ]
  },
  {
   "cell_type": "code",
   "execution_count": 6,
   "metadata": {},
   "outputs": [
    {
     "data": {
      "text/html": [
       "<div>\n",
       "<style scoped>\n",
       "    .dataframe tbody tr th:only-of-type {\n",
       "        vertical-align: middle;\n",
       "    }\n",
       "\n",
       "    .dataframe tbody tr th {\n",
       "        vertical-align: top;\n",
       "    }\n",
       "\n",
       "    .dataframe thead th {\n",
       "        text-align: right;\n",
       "    }\n",
       "</style>\n",
       "<table border=\"1\" class=\"dataframe\">\n",
       "  <thead>\n",
       "    <tr style=\"text-align: right;\">\n",
       "      <th></th>\n",
       "      <th>x0</th>\n",
       "      <th>fixed acidity</th>\n",
       "      <th>volatile acidity</th>\n",
       "      <th>citric acid</th>\n",
       "      <th>residual sugar</th>\n",
       "      <th>chlorides</th>\n",
       "      <th>free sulfur dioxide</th>\n",
       "      <th>total sulfur dioxide</th>\n",
       "      <th>density</th>\n",
       "      <th>pH</th>\n",
       "      <th>sulphates</th>\n",
       "      <th>alcohol</th>\n",
       "    </tr>\n",
       "  </thead>\n",
       "  <tbody>\n",
       "    <tr>\n",
       "      <th>0</th>\n",
       "      <td>1.0</td>\n",
       "      <td>0.172097</td>\n",
       "      <td>-0.081770</td>\n",
       "      <td>0.213280</td>\n",
       "      <td>2.821349</td>\n",
       "      <td>-0.035355</td>\n",
       "      <td>0.569932</td>\n",
       "      <td>0.744565</td>\n",
       "      <td>2.331512</td>\n",
       "      <td>-1.246921</td>\n",
       "      <td>-0.349184</td>\n",
       "      <td>-1.393152</td>\n",
       "    </tr>\n",
       "    <tr>\n",
       "      <th>1</th>\n",
       "      <td>1.0</td>\n",
       "      <td>-0.657501</td>\n",
       "      <td>0.215896</td>\n",
       "      <td>0.048001</td>\n",
       "      <td>-0.944765</td>\n",
       "      <td>0.147747</td>\n",
       "      <td>-1.253019</td>\n",
       "      <td>-0.149685</td>\n",
       "      <td>-0.009154</td>\n",
       "      <td>0.740029</td>\n",
       "      <td>0.001342</td>\n",
       "      <td>-0.824276</td>\n",
       "    </tr>\n",
       "    <tr>\n",
       "      <th>2</th>\n",
       "      <td>1.0</td>\n",
       "      <td>1.475751</td>\n",
       "      <td>0.017452</td>\n",
       "      <td>0.543838</td>\n",
       "      <td>0.100282</td>\n",
       "      <td>0.193523</td>\n",
       "      <td>-0.312141</td>\n",
       "      <td>-0.973336</td>\n",
       "      <td>0.358665</td>\n",
       "      <td>0.475102</td>\n",
       "      <td>-0.436816</td>\n",
       "      <td>-0.336667</td>\n",
       "    </tr>\n",
       "    <tr>\n",
       "      <th>3</th>\n",
       "      <td>1.0</td>\n",
       "      <td>0.409125</td>\n",
       "      <td>-0.478657</td>\n",
       "      <td>-0.117278</td>\n",
       "      <td>0.415768</td>\n",
       "      <td>0.559727</td>\n",
       "      <td>0.687541</td>\n",
       "      <td>1.121091</td>\n",
       "      <td>0.525855</td>\n",
       "      <td>0.011480</td>\n",
       "      <td>-0.787342</td>\n",
       "      <td>-0.499203</td>\n",
       "    </tr>\n",
       "    <tr>\n",
       "      <th>4</th>\n",
       "      <td>1.0</td>\n",
       "      <td>0.409125</td>\n",
       "      <td>-0.478657</td>\n",
       "      <td>-0.117278</td>\n",
       "      <td>0.415768</td>\n",
       "      <td>0.559727</td>\n",
       "      <td>0.687541</td>\n",
       "      <td>1.121091</td>\n",
       "      <td>0.525855</td>\n",
       "      <td>0.011480</td>\n",
       "      <td>-0.787342</td>\n",
       "      <td>-0.499203</td>\n",
       "    </tr>\n",
       "    <tr>\n",
       "      <th>...</th>\n",
       "      <td>...</td>\n",
       "      <td>...</td>\n",
       "      <td>...</td>\n",
       "      <td>...</td>\n",
       "      <td>...</td>\n",
       "      <td>...</td>\n",
       "      <td>...</td>\n",
       "      <td>...</td>\n",
       "      <td>...</td>\n",
       "      <td>...</td>\n",
       "      <td>...</td>\n",
       "      <td>...</td>\n",
       "    </tr>\n",
       "    <tr>\n",
       "      <th>4893</th>\n",
       "      <td>1.0</td>\n",
       "      <td>-0.776015</td>\n",
       "      <td>-0.677101</td>\n",
       "      <td>-0.365197</td>\n",
       "      <td>-0.944765</td>\n",
       "      <td>-0.310008</td>\n",
       "      <td>-0.664970</td>\n",
       "      <td>-1.091000</td>\n",
       "      <td>-0.965483</td>\n",
       "      <td>0.541334</td>\n",
       "      <td>0.088973</td>\n",
       "      <td>0.557282</td>\n",
       "    </tr>\n",
       "    <tr>\n",
       "      <th>4894</th>\n",
       "      <td>1.0</td>\n",
       "      <td>-0.301959</td>\n",
       "      <td>0.414339</td>\n",
       "      <td>0.213280</td>\n",
       "      <td>0.317179</td>\n",
       "      <td>0.056196</td>\n",
       "      <td>1.275590</td>\n",
       "      <td>0.697499</td>\n",
       "      <td>0.291789</td>\n",
       "      <td>-0.253446</td>\n",
       "      <td>-0.261553</td>\n",
       "      <td>-0.743008</td>\n",
       "    </tr>\n",
       "    <tr>\n",
       "      <th>4895</th>\n",
       "      <td>1.0</td>\n",
       "      <td>-0.420473</td>\n",
       "      <td>-0.379435</td>\n",
       "      <td>-1.191592</td>\n",
       "      <td>-1.023637</td>\n",
       "      <td>-0.218457</td>\n",
       "      <td>-0.312141</td>\n",
       "      <td>-0.643875</td>\n",
       "      <td>-0.497350</td>\n",
       "      <td>-1.313153</td>\n",
       "      <td>-0.261553</td>\n",
       "      <td>-0.905544</td>\n",
       "    </tr>\n",
       "    <tr>\n",
       "      <th>4896</th>\n",
       "      <td>1.0</td>\n",
       "      <td>-1.605613</td>\n",
       "      <td>0.116674</td>\n",
       "      <td>-0.282557</td>\n",
       "      <td>-1.043355</td>\n",
       "      <td>-1.088192</td>\n",
       "      <td>-0.900190</td>\n",
       "      <td>-0.667408</td>\n",
       "      <td>-1.784717</td>\n",
       "      <td>1.004955</td>\n",
       "      <td>-0.962605</td>\n",
       "      <td>1.857572</td>\n",
       "    </tr>\n",
       "    <tr>\n",
       "      <th>4897</th>\n",
       "      <td>1.0</td>\n",
       "      <td>-1.013043</td>\n",
       "      <td>-0.677101</td>\n",
       "      <td>0.378559</td>\n",
       "      <td>-1.102508</td>\n",
       "      <td>-1.179743</td>\n",
       "      <td>-0.782580</td>\n",
       "      <td>-0.949803</td>\n",
       "      <td>-1.543962</td>\n",
       "      <td>0.475102</td>\n",
       "      <td>-1.488394</td>\n",
       "      <td>1.044891</td>\n",
       "    </tr>\n",
       "  </tbody>\n",
       "</table>\n",
       "<p>4898 rows × 12 columns</p>\n",
       "</div>"
      ],
      "text/plain": [
       "       x0  fixed acidity  volatile acidity  citric acid  residual sugar  \\\n",
       "0     1.0       0.172097         -0.081770     0.213280        2.821349   \n",
       "1     1.0      -0.657501          0.215896     0.048001       -0.944765   \n",
       "2     1.0       1.475751          0.017452     0.543838        0.100282   \n",
       "3     1.0       0.409125         -0.478657    -0.117278        0.415768   \n",
       "4     1.0       0.409125         -0.478657    -0.117278        0.415768   \n",
       "...   ...            ...               ...          ...             ...   \n",
       "4893  1.0      -0.776015         -0.677101    -0.365197       -0.944765   \n",
       "4894  1.0      -0.301959          0.414339     0.213280        0.317179   \n",
       "4895  1.0      -0.420473         -0.379435    -1.191592       -1.023637   \n",
       "4896  1.0      -1.605613          0.116674    -0.282557       -1.043355   \n",
       "4897  1.0      -1.013043         -0.677101     0.378559       -1.102508   \n",
       "\n",
       "      chlorides  free sulfur dioxide  total sulfur dioxide   density  \\\n",
       "0     -0.035355             0.569932              0.744565  2.331512   \n",
       "1      0.147747            -1.253019             -0.149685 -0.009154   \n",
       "2      0.193523            -0.312141             -0.973336  0.358665   \n",
       "3      0.559727             0.687541              1.121091  0.525855   \n",
       "4      0.559727             0.687541              1.121091  0.525855   \n",
       "...         ...                  ...                   ...       ...   \n",
       "4893  -0.310008            -0.664970             -1.091000 -0.965483   \n",
       "4894   0.056196             1.275590              0.697499  0.291789   \n",
       "4895  -0.218457            -0.312141             -0.643875 -0.497350   \n",
       "4896  -1.088192            -0.900190             -0.667408 -1.784717   \n",
       "4897  -1.179743            -0.782580             -0.949803 -1.543962   \n",
       "\n",
       "            pH  sulphates   alcohol  \n",
       "0    -1.246921  -0.349184 -1.393152  \n",
       "1     0.740029   0.001342 -0.824276  \n",
       "2     0.475102  -0.436816 -0.336667  \n",
       "3     0.011480  -0.787342 -0.499203  \n",
       "4     0.011480  -0.787342 -0.499203  \n",
       "...        ...        ...       ...  \n",
       "4893  0.541334   0.088973  0.557282  \n",
       "4894 -0.253446  -0.261553 -0.743008  \n",
       "4895 -1.313153  -0.261553 -0.905544  \n",
       "4896  1.004955  -0.962605  1.857572  \n",
       "4897  0.475102  -1.488394  1.044891  \n",
       "\n",
       "[4898 rows x 12 columns]"
      ]
     },
     "execution_count": 6,
     "metadata": {},
     "output_type": "execute_result"
    }
   ],
   "source": [
    "# 这里注意一个小trick：回归系数会比特征x多一维，为了向量相乘方便，可以在训练集X左侧添加全为1的一列\n",
    "# concat函数用于拼接\n",
    "# shape[0]获取行数\n",
    "# anxis=1 按列拼接\n",
    "# pd.DataFrame(np.ones(X.shape[0]), columns=['x0']) 左边是一列名为x0且元素全为1的列\n",
    "# X 右边是X\n",
    "data0 = pd.concat([pd.DataFrame(np.ones(X.shape[0]), columns=['x0']), X], axis=1)\n",
    "data0"
   ]
  },
  {
   "cell_type": "markdown",
   "metadata": {
    "tags": []
   },
   "source": [
    "### 一、基本要求\n",
    "\n",
    "具体要求：\n",
    "\n",
    "将数据集winequality-white.csv按照4:1划分为训练集和测试集。\n",
    "\n",
    "1. 构造线性回归模型，并采用批量梯度下降和随机梯度下降进行优化；输出训练集和测试集的均方误差（MSE），画出MSE收敛曲线。\n",
    "\n",
    "2. 对于批量梯度下降和随机梯度下降，采用不同的学习率并进行MSE曲线展示，分析选择最佳的学习率。\n",
    " \n",
    "特别需要注意：\n",
    "\n",
    "* 划分数据集时尽可能保持数据分布的一致性，保持样本类别比例相似，可采用分层采样的方式。\n",
    "\n",
    "* 需要对数据集进行一定的预处理"
   ]
  },
  {
   "cell_type": "markdown",
   "metadata": {},
   "source": [
    "#### (一)步骤一：将数据集按照4:1划分为训练集和测试集(应选用方法2：按照标签重新划分数据集)"
   ]
  },
  {
   "cell_type": "markdown",
   "metadata": {
    "tags": []
   },
   "source": [
    "##### 1、不能满足该实验要求，但有点道理的划分数据集，在不是分类的情况下可能可以选取的划分方法"
   ]
  },
  {
   "cell_type": "markdown",
   "metadata": {},
   "source": [
    "随机排列函数np.random.permutation将索引随机打乱"
   ]
  },
  {
   "cell_type": "code",
   "execution_count": 7,
   "metadata": {},
   "outputs": [
    {
     "data": {
      "text/plain": [
       "array([1818,  133,  288, ..., 3511,  865, 1032])"
      ]
     },
     "execution_count": 7,
     "metadata": {},
     "output_type": "execute_result"
    }
   ],
   "source": [
    "# 将索引随机打乱\n",
    "row_indices=np.random.permutation(data0.shape[0])\n",
    "# 查看打乱后的索引\n",
    "row_indices\n",
    "# # 将拼接过后的特征矩阵/分类结果 按照4:1的比例划分，训练集的个数\n",
    "num=int((row_indices.shape[0])*0.8)"
   ]
  },
  {
   "cell_type": "markdown",
   "metadata": {},
   "source": [
    "创建训练集"
   ]
  },
  {
   "cell_type": "code",
   "execution_count": 8,
   "metadata": {},
   "outputs": [
    {
     "name": "stdout",
     "output_type": "stream",
     "text": [
      "训练集的大小为: 3918\n"
     ]
    }
   ],
   "source": [
    "# 创建训练集\n",
    "# row_indices[0:num]\n",
    "x_train=data0.iloc[row_indices[0:num],:]\n",
    "y_train=Y.iloc[row_indices[0:num]]\n",
    "# 训练集的个数\n",
    "print(\"训练集的大小为:\",x_train.shape[0])"
   ]
  },
  {
   "cell_type": "markdown",
   "metadata": {},
   "source": [
    "创建测试集"
   ]
  },
  {
   "cell_type": "code",
   "execution_count": 9,
   "metadata": {},
   "outputs": [
    {
     "name": "stdout",
     "output_type": "stream",
     "text": [
      "测试集的大小为: 980\n"
     ]
    }
   ],
   "source": [
    "# 创建测试集\n",
    "# row_indices[num:]\n",
    "x_test=data0.iloc[row_indices[num:],:]\n",
    "y_test=Y.iloc[row_indices[num:]]\n",
    "# 测试集的个数\n",
    "print(\"测试集的大小为:\",x_test.shape[0])"
   ]
  },
  {
   "cell_type": "markdown",
   "metadata": {
    "tags": []
   },
   "source": [
    "*注意！！！*\n",
    "如上创建测试集似乎由一些问题，和同学交流过后我认识到，quality为分类结果label，因为训练结果为几个label(3-9)，极端情况下，存在某一label都被训练到或某一label完全没有训练到。\n",
    "\n",
    "显然，训练和测试结果很有可能出现较大的偏差。故，应将每一类别的数据划分训练集和测试集\n",
    "\n",
    "此外，应该看一看原数据集中是否有相同的行"
   ]
  },
  {
   "cell_type": "markdown",
   "metadata": {},
   "source": [
    "##### 2、按照分类结果，即标签重新划分数据集"
   ]
  },
  {
   "cell_type": "code",
   "execution_count": 10,
   "metadata": {},
   "outputs": [
    {
     "data": {
      "text/html": [
       "<div>\n",
       "<style scoped>\n",
       "    .dataframe tbody tr th:only-of-type {\n",
       "        vertical-align: middle;\n",
       "    }\n",
       "\n",
       "    .dataframe tbody tr th {\n",
       "        vertical-align: top;\n",
       "    }\n",
       "\n",
       "    .dataframe thead th {\n",
       "        text-align: right;\n",
       "    }\n",
       "</style>\n",
       "<table border=\"1\" class=\"dataframe\">\n",
       "  <thead>\n",
       "    <tr style=\"text-align: right;\">\n",
       "      <th></th>\n",
       "      <th>fixed acidity</th>\n",
       "      <th>volatile acidity</th>\n",
       "      <th>citric acid</th>\n",
       "      <th>residual sugar</th>\n",
       "      <th>chlorides</th>\n",
       "      <th>free sulfur dioxide</th>\n",
       "      <th>total sulfur dioxide</th>\n",
       "      <th>density</th>\n",
       "      <th>pH</th>\n",
       "      <th>sulphates</th>\n",
       "      <th>alcohol</th>\n",
       "      <th>quality</th>\n",
       "    </tr>\n",
       "  </thead>\n",
       "  <tbody>\n",
       "    <tr>\n",
       "      <th>0</th>\n",
       "      <td>0.172097</td>\n",
       "      <td>-0.081770</td>\n",
       "      <td>0.213280</td>\n",
       "      <td>2.821349</td>\n",
       "      <td>-0.035355</td>\n",
       "      <td>0.569932</td>\n",
       "      <td>0.744565</td>\n",
       "      <td>2.331512</td>\n",
       "      <td>-1.246921</td>\n",
       "      <td>-0.349184</td>\n",
       "      <td>-1.393152</td>\n",
       "      <td>6</td>\n",
       "    </tr>\n",
       "    <tr>\n",
       "      <th>1</th>\n",
       "      <td>-0.657501</td>\n",
       "      <td>0.215896</td>\n",
       "      <td>0.048001</td>\n",
       "      <td>-0.944765</td>\n",
       "      <td>0.147747</td>\n",
       "      <td>-1.253019</td>\n",
       "      <td>-0.149685</td>\n",
       "      <td>-0.009154</td>\n",
       "      <td>0.740029</td>\n",
       "      <td>0.001342</td>\n",
       "      <td>-0.824276</td>\n",
       "      <td>6</td>\n",
       "    </tr>\n",
       "    <tr>\n",
       "      <th>2</th>\n",
       "      <td>1.475751</td>\n",
       "      <td>0.017452</td>\n",
       "      <td>0.543838</td>\n",
       "      <td>0.100282</td>\n",
       "      <td>0.193523</td>\n",
       "      <td>-0.312141</td>\n",
       "      <td>-0.973336</td>\n",
       "      <td>0.358665</td>\n",
       "      <td>0.475102</td>\n",
       "      <td>-0.436816</td>\n",
       "      <td>-0.336667</td>\n",
       "      <td>6</td>\n",
       "    </tr>\n",
       "    <tr>\n",
       "      <th>3</th>\n",
       "      <td>0.409125</td>\n",
       "      <td>-0.478657</td>\n",
       "      <td>-0.117278</td>\n",
       "      <td>0.415768</td>\n",
       "      <td>0.559727</td>\n",
       "      <td>0.687541</td>\n",
       "      <td>1.121091</td>\n",
       "      <td>0.525855</td>\n",
       "      <td>0.011480</td>\n",
       "      <td>-0.787342</td>\n",
       "      <td>-0.499203</td>\n",
       "      <td>6</td>\n",
       "    </tr>\n",
       "    <tr>\n",
       "      <th>4</th>\n",
       "      <td>0.409125</td>\n",
       "      <td>-0.478657</td>\n",
       "      <td>-0.117278</td>\n",
       "      <td>0.415768</td>\n",
       "      <td>0.559727</td>\n",
       "      <td>0.687541</td>\n",
       "      <td>1.121091</td>\n",
       "      <td>0.525855</td>\n",
       "      <td>0.011480</td>\n",
       "      <td>-0.787342</td>\n",
       "      <td>-0.499203</td>\n",
       "      <td>6</td>\n",
       "    </tr>\n",
       "  </tbody>\n",
       "</table>\n",
       "</div>"
      ],
      "text/plain": [
       "   fixed acidity  volatile acidity  citric acid  residual sugar  chlorides  \\\n",
       "0       0.172097         -0.081770     0.213280        2.821349  -0.035355   \n",
       "1      -0.657501          0.215896     0.048001       -0.944765   0.147747   \n",
       "2       1.475751          0.017452     0.543838        0.100282   0.193523   \n",
       "3       0.409125         -0.478657    -0.117278        0.415768   0.559727   \n",
       "4       0.409125         -0.478657    -0.117278        0.415768   0.559727   \n",
       "\n",
       "   free sulfur dioxide  total sulfur dioxide   density        pH  sulphates  \\\n",
       "0             0.569932              0.744565  2.331512 -1.246921  -0.349184   \n",
       "1            -1.253019             -0.149685 -0.009154  0.740029   0.001342   \n",
       "2            -0.312141             -0.973336  0.358665  0.475102  -0.436816   \n",
       "3             0.687541              1.121091  0.525855  0.011480  -0.787342   \n",
       "4             0.687541              1.121091  0.525855  0.011480  -0.787342   \n",
       "\n",
       "    alcohol  quality  \n",
       "0 -1.393152        6  \n",
       "1 -0.824276        6  \n",
       "2 -0.336667        6  \n",
       "3 -0.499203        6  \n",
       "4 -0.499203        6  "
      ]
     },
     "execution_count": 10,
     "metadata": {},
     "output_type": "execute_result"
    }
   ],
   "source": [
    "# 上述方法不行！重新切分数据\n",
    "data0=pd.concat([X,Y],axis=1)\n",
    "data0.head()"
   ]
  },
  {
   "cell_type": "markdown",
   "metadata": {},
   "source": [
    "分层随机选取训练样本"
   ]
  },
  {
   "cell_type": "code",
   "execution_count": 27,
   "metadata": {
    "scrolled": true,
    "tags": []
   },
   "outputs": [
    {
     "data": {
      "text/plain": [
       "pandas.core.frame.DataFrame"
      ]
     },
     "execution_count": 27,
     "metadata": {},
     "output_type": "execute_result"
    }
   ],
   "source": [
    "#分层 随机 选取训练样本\n",
    "def sample_split(data, train_ratio=0.8, label='quality', seed=None):\n",
    "    xy_test=None\n",
    "    # 根据分类标签分组\n",
    "    xy_train = data.groupby(label).apply(lambda x: x.sample(frac=train_ratio, random_state=seed))\n",
    "    \n",
    "    # 将xy_train每行索引存入列表，为了找到在data中对应的行，删除得到test数据集\n",
    "    list_index=[]\n",
    "    for i in range(0,xy_train.shape[0]):\n",
    "        list_index.append((xy_train.iloc[i].name)[1])\n",
    "    xy_test=np.delete(data.values,list_index,axis=0)\n",
    "    \n",
    "    # 将训练集打乱顺序\n",
    "    xy_train = xy_train.sample(frac=1, random_state=seed)\n",
    "    xy_train.reset_index(drop=True, inplace=True)\n",
    "    \n",
    "    return xy_train, xy_test\n",
    "\n",
    "# 训练集和测试集\n",
    "type(data0)\n",
    "train, test = sample_split(data0)"
   ]
  },
  {
   "cell_type": "code",
   "execution_count": 28,
   "metadata": {},
   "outputs": [
    {
     "name": "stdout",
     "output_type": "stream",
     "text": [
      "数据集大小: 4898\n",
      "训练集大小(80%): 3918\n",
      "测试集大小(20%): 980\n"
     ]
    }
   ],
   "source": [
    "print(\"数据集大小:\",data0.shape[0])\n",
    "print(\"训练集大小(80%):\",train.shape[0])\n",
    "print(\"测试集大小(20%):\",test.shape[0])\n",
    "test=pd.DataFrame(test)"
   ]
  },
  {
   "cell_type": "markdown",
   "metadata": {},
   "source": [
    "训练集测试与标签分离"
   ]
  },
  {
   "cell_type": "code",
   "execution_count": 13,
   "metadata": {},
   "outputs": [],
   "source": [
    "# 提取特征和标签\n",
    "x_temp= train.iloc[:,:-1]\n",
    "y=train.iloc[:, -1]\n",
    "\n",
    "# 这里注意一个小trick：回归系数会比特征x多一维，为了向量相乘方便，可以在训练集X左侧添加全为1的一列\n",
    "x_final = pd.concat([pd.DataFrame(np.ones(x_temp.shape[0]), columns=['x0']), x_temp], axis=1)\n",
    "size, feature_num = x_final.shape\n",
    "\n",
    "# 便于后续计算，将特征矩阵和分类结果都由dataframe转换为二维ndarray：\n",
    "x_train= x_final.values\n",
    "y_train = y.values.reshape(y.shape[0],1)"
   ]
  },
  {
   "cell_type": "markdown",
   "metadata": {},
   "source": [
    "测试集特征与分类标签分离"
   ]
  },
  {
   "cell_type": "code",
   "execution_count": 14,
   "metadata": {},
   "outputs": [],
   "source": [
    "x = test.iloc[:,:-1]\n",
    "y = test.iloc[:, -1]\n",
    "x = pd.concat([pd.DataFrame(np.ones(x.shape[0]), columns=['x0']), x], axis=1)\n",
    "test_x = x.values\n",
    "test_y = y.values.reshape(y.shape[0],1)"
   ]
  },
  {
   "cell_type": "markdown",
   "metadata": {},
   "source": [
    "至此划分好了训练集和测试集"
   ]
  },
  {
   "cell_type": "markdown",
   "metadata": {
    "tags": []
   },
   "source": [
    "#### (二)步骤二：线性回归模型"
   ]
  },
  {
   "cell_type": "markdown",
   "metadata": {},
   "source": [
    "1. 定义损失函数mse："
   ]
  },
  {
   "cell_type": "code",
   "execution_count": 15,
   "metadata": {},
   "outputs": [],
   "source": [
    "def compute_mse(x,y,theta):\n",
    "    return np.mean((x@theta-y)**2)"
   ]
  },
  {
   "cell_type": "markdown",
   "metadata": {},
   "source": [
    "2. 批量梯度下降："
   ]
  },
  {
   "cell_type": "code",
   "execution_count": 16,
   "metadata": {},
   "outputs": [],
   "source": [
    "def fit_gd(x, y, theta, learning_ratio=0.01, max_iter=10000, change_ratio=1e-4, n_unchange=5):\n",
    "    n_iter = 0\n",
    "    no_change = 0\n",
    "    mses = []\n",
    "    random_mse=compute_mse(x,y,theta)\n",
    "    mses.append(random_mse)\n",
    "    # 停止条件：\n",
    "    # 1.到达最大迭代次数\n",
    "    # 2.边化率太小\n",
    "    while n_iter < max_iter:\n",
    "        n_iter += 1\n",
    "        theta = learning_ratio/size * x.T@(y - x@theta) + theta \n",
    "        mse_temp = compute_mse(x,y,theta)\n",
    "        if abs(mse_temp - mses[-1]) < change_ratio:\n",
    "            no_change += 1\n",
    "            if no_change >= n_unchange:\n",
    "                break\n",
    "        else:\n",
    "            no_change = 0\n",
    "        mses.append(mse_temp)\n",
    "    return theta, mses"
   ]
  },
  {
   "cell_type": "code",
   "execution_count": 17,
   "metadata": {},
   "outputs": [
    {
     "data": {
      "text/plain": [
       "array([0.30809531, 0.36605552, 0.13846   , 0.18538677, 0.99626649,\n",
       "       0.13420059, 0.23141642, 0.25913349, 0.98135508, 0.87390355,\n",
       "       0.66953199, 0.27299143])"
      ]
     },
     "execution_count": 17,
     "metadata": {},
     "output_type": "execute_result"
    }
   ],
   "source": [
    "# 初始化回归系数\n",
    "W_init = np.random.rand(feature_num, 1)\n",
    "W_init.reshape(feature_num)"
   ]
  },
  {
   "cell_type": "code",
   "execution_count": 18,
   "metadata": {},
   "outputs": [
    {
     "name": "stdout",
     "output_type": "stream",
     "text": [
      "批量梯度下降训练集mse： 0.5686416292571671\n"
     ]
    }
   ],
   "source": [
    "w_gd, mses_gd = fit_gd(x_train,y_train,W_init, learning_ratio=0.01, max_iter=1000, change_ratio=1e-19, n_unchange=5)\n",
    "# mses_gd\n",
    "print(\"批量梯度下降训练集mse：\",mses_gd[-1])"
   ]
  },
  {
   "cell_type": "markdown",
   "metadata": {},
   "source": [
    "3. 随机梯度下降"
   ]
  },
  {
   "cell_type": "code",
   "execution_count": 19,
   "metadata": {},
   "outputs": [],
   "source": [
    "def fit_sgd(x, y, theta, learning_ratio=0.01, max_iter=10000, change_ratio=1e-6, n_unchange=5):\n",
    "    n_iter = 0\n",
    "    no_change = 0\n",
    "    mses = []\n",
    "    random_mse=compute_mse(x,y,theta)\n",
    "    mses.append(random_mse)\n",
    "    while n_iter < max_iter:\n",
    "        n_iter += 1\n",
    "        i = np.random.randint(size)\n",
    "        tmp = (y[i] - x[i]@theta)\n",
    "        theta = learning_ratio * x[i].reshape(feature_num,1)*tmp + theta\n",
    "        mse_temp = compute_mse(x,y,theta)\n",
    "        if abs(mse_temp - mses[-1]) < change_ratio:\n",
    "            no_change += 1\n",
    "            if no_change >= n_unchange:\n",
    "                break\n",
    "        else:\n",
    "            no_change = 0\n",
    "        mses.append(mse_temp)\n",
    "    return theta, mses"
   ]
  },
  {
   "cell_type": "code",
   "execution_count": 20,
   "metadata": {},
   "outputs": [
    {
     "name": "stdout",
     "output_type": "stream",
     "text": [
      "随机梯度下降训练集mse： 0.5814792570672931\n"
     ]
    }
   ],
   "source": [
    "w_sgd, mses_sgd = fit_sgd(x_train,y_train,W_init, learning_ratio=0.01, max_iter=1000, change_ratio=1e-4, n_unchange=5)\n",
    "print(\"随机梯度下降训练集mse：\",mses_sgd[-1])"
   ]
  },
  {
   "cell_type": "markdown",
   "metadata": {},
   "source": [
    "\n",
    "\n",
    "#### (三)步骤三：训练集和测试集结果"
   ]
  },
  {
   "cell_type": "code",
   "execution_count": 21,
   "metadata": {},
   "outputs": [
    {
     "name": "stdout",
     "output_type": "stream",
     "text": [
      "批量梯度下降训练集mse： 0.5686416292571671\n",
      "批量梯度下降测试集mse： 0.5682573628607406\n",
      "随机梯度下降训练集mse： 0.5814792570672931\n",
      "随机梯度下降测试集mse： 0.5870369253924073\n"
     ]
    }
   ],
   "source": [
    "print(\"批量梯度下降训练集mse：\",mses_gd[-1])\n",
    "print(\"批量梯度下降测试集mse：\",compute_mse(test_x,test_y,w_gd))\n",
    "\n",
    "print(\"随机梯度下降训练集mse：\",mses_sgd[-1])\n",
    "print(\"随机梯度下降测试集mse：\",compute_mse(test_x,test_y,w_sgd))"
   ]
  },
  {
   "cell_type": "markdown",
   "metadata": {},
   "source": [
    "#### (四)步骤四：绘制mse收敛曲线"
   ]
  },
  {
   "cell_type": "code",
   "execution_count": 22,
   "metadata": {},
   "outputs": [
    {
     "data": {
      "text/plain": [
       "[<matplotlib.lines.Line2D at 0x22ef7323fa0>]"
      ]
     },
     "execution_count": 22,
     "metadata": {},
     "output_type": "execute_result"
    },
    {
     "data": {
      "text/plain": [
       "[<matplotlib.lines.Line2D at 0x22ef7332310>]"
      ]
     },
     "execution_count": 22,
     "metadata": {},
     "output_type": "execute_result"
    },
    {
     "data": {
      "text/plain": [
       "Text(0.5, 0, 'n_iters')"
      ]
     },
     "execution_count": 22,
     "metadata": {},
     "output_type": "execute_result"
    },
    {
     "data": {
      "text/plain": [
       "Text(0, 0.5, 'mse')"
      ]
     },
     "execution_count": 22,
     "metadata": {},
     "output_type": "execute_result"
    },
    {
     "data": {
      "text/plain": [
       "Text(0.5, 1.0, 'mse with different n_iters')"
      ]
     },
     "execution_count": 22,
     "metadata": {},
     "output_type": "execute_result"
    },
    {
     "data": {
      "image/png": "[encoded data removed]",
      "text/plain": [
       "<Figure size 432x288 with 1 Axes>"
      ]
     },
     "metadata": {
      "needs_background": "light"
     },
     "output_type": "display_data"
    }
   ],
   "source": [
    "import matplotlib.pyplot as plt\n",
    "fig, axes = plt.subplots()\n",
    "axes.plot(np.arange(len(mses_gd)), mses_gd, 'r')\n",
    "axes.plot(np.arange(len(mses_sgd)), mses_sgd, 'b')\n",
    "axes.set_xlabel('n_iters')\n",
    "axes.set_ylabel('mse')\n",
    "axes.set_title('mse with different n_iters')"
   ]
  },
  {
   "cell_type": "markdown",
   "metadata": {},
   "source": [
    "#### (五)步骤五"
   ]
  },
  {
   "cell_type": "code",
   "execution_count": 23,
   "metadata": {},
   "outputs": [
    {
     "data": {
      "text/plain": [
       "[0.5711885067465754,\n",
       " 0.5730638534401142,\n",
       " 0.6009722832399678,\n",
       " 0.5858428693245122,\n",
       " 0.5854269632262313,\n",
       " 0.6116584098337158,\n",
       " 0.8188827629569787,\n",
       " 2.1526951288881047,\n",
       " 1.4369978574664528]"
      ]
     },
     "execution_count": 23,
     "metadata": {},
     "output_type": "execute_result"
    }
   ],
   "source": [
    "# learning_ratio_list=[0.001,0.005,0.01,0.05,0.1,0.3,0.5]\n",
    "learning_ratio_list=(0.001,0.002,0.004,0.005,0.008,0.01,0.05,0.1,0.11)\n",
    "gd_mses=[]\n",
    "sgd_mses=[]\n",
    "# gd_mses.append(compute_mse(x_train,y_train,W_init))    \n",
    "# sgd_mses.append(compute_mse(x_train,y_train,W_init))\n",
    "\n",
    "for l_r in learning_ratio_list:\n",
    "    w_gd,mses = fit_gd(x_train,y_train,theta=W_init, learning_ratio=l_r)\n",
    "    w_sgd,smses = fit_sgd(x_train,y_train,theta=W_init,learning_ratio=l_r)\n",
    "    gd_mses.append(compute_mse(x_train,y_train,w_gd))    \n",
    "    sgd_mses.append(compute_mse(x_train,y_train,w_sgd))\n",
    "# gd_mses\n",
    "sgd_mses"
   ]
  },
  {
   "cell_type": "code",
   "execution_count": 24,
   "metadata": {},
   "outputs": [
    {
     "data": {
      "text/plain": [
       "[<matplotlib.lines.Line2D at 0x22ef73ca6d0>]"
      ]
     },
     "execution_count": 24,
     "metadata": {},
     "output_type": "execute_result"
    },
    {
     "data": {
      "text/plain": [
       "[<matplotlib.lines.Line2D at 0x22ef73ca9d0>]"
      ]
     },
     "execution_count": 24,
     "metadata": {},
     "output_type": "execute_result"
    },
    {
     "data": {
      "text/plain": [
       "Text(0.5, 0, 'n_iters')"
      ]
     },
     "execution_count": 24,
     "metadata": {},
     "output_type": "execute_result"
    },
    {
     "data": {
      "text/plain": [
       "Text(0, 0.5, 'mse')"
      ]
     },
     "execution_count": 24,
     "metadata": {},
     "output_type": "execute_result"
    },
    {
     "data": {
      "text/plain": [
       "Text(0.5, 1.0, 'mse with different n_iters')"
      ]
     },
     "execution_count": 24,
     "metadata": {},
     "output_type": "execute_result"
    },
    {
     "data": {
      "image/png": "[encoded data removed]",
      "text/plain": [
       "<Figure size 432x288 with 1 Axes>"
      ]
     },
     "metadata": {
      "needs_background": "light"
     },
     "output_type": "display_data"
    }
   ],
   "source": [
    "import matplotlib.pyplot as plt\n",
    "fig, axes = plt.subplots()\n",
    "axes.plot(learning_ratio_list, gd_mses, 'r')\n",
    "axes.plot(learning_ratio_list, sgd_mses, 'b')\n",
    "axes.set_xlabel('n_iters')\n",
    "axes.set_ylabel('mse')\n",
    "axes.set_title('mse with different n_iters')"
   ]
  },
  {
   "cell_type": "markdown",
   "metadata": {},
   "source": [
    "实验要求我们对于批量梯度下降和随机梯度下降，采用不同的学习率并进行MSE曲线展示，分析选择最佳的学习率。我选取了(0.001,0.002,0.004,0.005,0.008,0.01,0.05,0.1,0.11)，若学习率太高的话，如上图所示，红色的是随机梯度下降，绿色的是批量梯度下降，当学习率到达一定数值时，随机梯度下降的mse会出现非常明显的抖动。\n",
    "\n",
    "故随机梯度下降更适合低学习率，从图中看，批量梯度下降高低学习率都适用，但在实际应用中，不能一味使用批量梯度下降，当数据量很大时，批量梯度下降的时间开销会非常大。"
   ]
  },
  {
   "cell_type": "markdown",
   "metadata": {},
   "source": [
    "\n",
    "### 二、中级要求\n",
    "探究回归模型在机器学习和统计学上的差异。\n",
    "\n",
    "* 回归模型在机器学习领域和统计学领域中都十分常用，而且使用方法也相似，但其实际的含义具有本质的区别。我们希望同学们从回归模型的角度更加充分地理解机器学习和统计学的区别。"
   ]
  },
  {
   "cell_type": "markdown",
   "metadata": {},
   "source": [
    "本次实验的线性回归是一种统计学方法，我们使用机器学习来构建模型。\n",
    "\n",
    "在构建机器学习的模型过程中，我们需要将数据集分为训练集和测试集两个数据子集，并对模型进行一定的“训练”。此外，在我们使用测试集对模型测试前，我们并不知道这个模型的性能。\n",
    "\n",
    "\n",
    "我认为：\n",
    "\n",
    "* 机器学习的重点在于预测，即获得基于测试数据集的最优输出(如使用各种损失函数进行衡量)，从而模型性能达到最优。\n",
    "\n",
    "* 统计模型的重点在于刻画已有数据与结果变量之间的关系，而不是对未来的数据进行预测。该过程被称为统计推断过程，而非预测过程。\n",
    "\n",
    "衡量标准：\n",
    "* 机器学习:测试集的预测准确度\n",
    "* 统计模型:显著性检验，置信区间等\n",
    "\n",
    "部分参考：[读懂统计学与机器学习的本质区别](https://blog.csdn.net/eNohtZvQiJxo00aTz3y8/article/details/89879697)"
   ]
  },
  {
   "cell_type": "markdown",
   "metadata": {},
   "source": [
    "### 三、高级要求\n",
    "编程实现岭回归算法，求解训练样本的岭回归模型，平均训练误差和平均测试误差（解析法、批量梯度下降法和随机梯度下降法均可）。"
   ]
  },
  {
   "cell_type": "markdown",
   "metadata": {},
   "source": [
    "+ 岭回归：\n",
    " 实质上是一种改良的最小二乘估计法，通过放弃最小二乘法的无偏性，以损失部分信息、降低精度为代价获得回归系数更为符合实际、更可靠的回归方法，对病态数据的拟合要强于最小二乘法。"
   ]
  },
  {
   "cell_type": "code",
   "execution_count": 24,
   "metadata": {},
   "outputs": [],
   "source": [
    "## 平均训练误差和平均测试误差（解析法、批量梯度下降法和随机梯度下降法均可）\n",
    "# 解析法\n",
    "def weights(x,y,lam=0.2):\n",
    "    x_mat= np.mat(x)\n",
    "    y_mat =np.mat(y)\n",
    "    xtx=x_mat.T*x_mat\n",
    "    rxtx = xtx+lam*np.eye(x_mat.shape[1])\n",
    "    if np.linalg.det(rxtx) == 0.0:\n",
    "        print(\"This matrix cannot do inverse, plz change lambda.\")\n",
    "        return \n",
    "\n",
    "    theta = rxtx.I*x_mat.T*y_mat\n",
    "    return theta"
   ]
  },
  {
   "cell_type": "code",
   "execution_count": 25,
   "metadata": {},
   "outputs": [
    {
     "name": "stdout",
     "output_type": "stream",
     "text": [
      "平均训练mse:\n",
      "0.5678390774407152\n",
      "平均测试mse:\n",
      "0.5462387164993198\n"
     ]
    }
   ],
   "source": [
    "w_t = weights(x_train,y_train)\n",
    "# !!! 岭系数\n",
    "w=np.asarray(w_t)\n",
    "print(\"平均训练mse:\")\n",
    "print(compute_mse(x_train,y_train,w))\n",
    "print(\"平均测试mse:\")\n",
    "print(compute_mse(test_x,test_y,w))"
   ]
  },
  {
   "cell_type": "code",
   "execution_count": 27,
   "metadata": {
    "tags": []
   },
   "outputs": [
    {
     "data": {
      "text/plain": [
       "[0.5462547424452671,\n",
       " 0.5462539344198891,\n",
       " 0.5462531271034841,\n",
       " 0.5462515145970889,\n",
       " 0.5462482980864349,\n",
       " 0.546246694080167,\n",
       " 0.5462450929052668,\n",
       " 0.5462418990455624,\n",
       " 0.5462387164993198,\n",
       " 0.5462347542139077,\n",
       " 0.5462308095777458,\n",
       " 0.5462268825753205,\n",
       " 0.5462229731911606,\n",
       " 0.5462190814098385,\n",
       " 0.5462152072159692,\n",
       " 0.5462113505942108]"
      ]
     },
     "execution_count": 27,
     "metadata": {},
     "output_type": "execute_result"
    }
   ],
   "source": [
    "lams = [0,0.01,0.02,0.04,0.08,0.10,0.12,0.16,0.20,0.25,0.30,0.35,0.40,0.45,0.50,0.55]\n",
    "\n",
    "# lams\n",
    "train_mses =[]\n",
    "test_mses = []\n",
    "for lam in lams:\n",
    "    w_t = weights(x_train,y_train,lam)\n",
    "    w=np.asarray(w_t)\n",
    "    train_mses.append(compute_mse(x_train,y_train,w))\n",
    "    test_mses.append(compute_mse(test_x,test_y,w))\n",
    "\n",
    "test_mses"
   ]
  },
  {
   "cell_type": "markdown",
   "metadata": {},
   "source": [
    "在本实验中，改变lam值，mse并没有很大的改变，我们可以对lam做进一步的探究。"
   ]
  }
 ],
 "metadata": {
  "kernelspec": {
   "display_name": "Python 3 (ipykernel)",
   "language": "python",
   "name": "python3"
  },
  "language_info": {
   "codemirror_mode": {
    "name": "ipython",
    "version": 3
   },
   "file_extension": ".py",
   "mimetype": "text/x-python",
   "name": "python",
   "nbconvert_exporter": "python",
   "pygments_lexer": "ipython3",
   "version": "3.8.10"
  }
 },
 "nbformat": 4,
 "nbformat_minor": 4
}
